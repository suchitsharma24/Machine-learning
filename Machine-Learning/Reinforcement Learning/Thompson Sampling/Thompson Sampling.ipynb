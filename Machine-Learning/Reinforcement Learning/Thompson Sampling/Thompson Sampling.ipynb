{
 "cells": [
  {
   "cell_type": "code",
   "execution_count": 1,
   "metadata": {},
   "outputs": [],
   "source": [
    "#Import libraries\n",
    "import pandas as pd\n",
    "import numpy as np\n",
    "import matplotlib.pyplot as plt"
   ]
  },
  {
   "cell_type": "code",
   "execution_count": 2,
   "metadata": {},
   "outputs": [],
   "source": [
    "#read dataset\n",
    "dataset = pd.read_csv('data/Ads_CTR_Optimisation.csv')"
   ]
  },
  {
   "cell_type": "code",
   "execution_count": 3,
   "metadata": {},
   "outputs": [],
   "source": [
    "#Implementing Thompson Sampling algorithm from scratch\n",
    "\n",
    "import random\n",
    "users = len(dataset)\n",
    "ads = 10\n",
    "ads_selected = []\n",
    "total_rewards = 0\n",
    "number_of_rewards_1 = [0] * ads\n",
    "number_of_rewards_0 = [0] * ads\n",
    "\n",
    "for user in range(0,users):\n",
    "    \n",
    "    max_random = 0\n",
    "    ad_upper = 0\n",
    "    \n",
    "    for ad in range(0,ads):\n",
    "        \n",
    "        random_beta = random.betavariate(number_of_rewards_1[ad] + 1, number_of_rewards_0[ad] + 1)\n",
    "        \n",
    "        if random_beta > max_random:\n",
    "            max_random = random_beta\n",
    "            ad_upper = ad\n",
    "    ads_selected.append(ad_upper)\n",
    "    reward = dataset.values[user,ad_upper]\n",
    "    if reward == 1:\n",
    "        number_of_rewards_1[ad_upper] = number_of_rewards_1[ad_upper] + 1\n",
    "    else:\n",
    "        number_of_rewards_0[ad_upper] = number_of_rewards_0[ad_upper] + 1\n",
    "    total_rewards = total_rewards + reward"
   ]
  },
  {
   "cell_type": "code",
   "execution_count": 4,
   "metadata": {},
   "outputs": [
    {
     "name": "stdout",
     "output_type": "stream",
     "text": [
      "2579\n"
     ]
    }
   ],
   "source": [
    "print(total_rewards)"
   ]
  },
  {
   "cell_type": "code",
   "execution_count": 5,
   "metadata": {},
   "outputs": [
    {
     "data": {
      "image/png": "[encoded data removed]",
      "text/plain": [
       "<Figure size 432x288 with 1 Axes>"
      ]
     },
     "metadata": {
      "needs_background": "light"
     },
     "output_type": "display_data"
    }
   ],
   "source": [
    "#Visualizing the results\n",
    "plt.hist(ads_selected)\n",
    "plt.title('Histograms for ads selection')\n",
    "plt.xlabel('ads')\n",
    "plt.ylabel('Number of times each ad was selected')\n",
    "plt.show()"
   ]
  },
  {
   "cell_type": "markdown",
   "metadata": {},
   "source": [
    "**Total_rewards is turned out to be more than double as compared to random selection method.**"
   ]
  }
 ],
 "metadata": {
  "anaconda-cloud": {},
  "kernelspec": {
   "display_name": "TensorFlow-GPU-1.13",
   "language": "python",
   "name": "tf-gpu"
  },
  "language_info": {
   "codemirror_mode": {
    "name": "ipython",
    "version": 3
   },
   "file_extension": ".py",
   "mimetype": "text/x-python",
   "name": "python",
   "nbconvert_exporter": "python",
   "pygments_lexer": "ipython3",
   "version": "3.7.6"
  }
 },
 "nbformat": 4,
 "nbformat_minor": 1
}
